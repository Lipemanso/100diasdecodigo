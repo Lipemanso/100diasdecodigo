{
 "cells": [
  {
   "cell_type": "code",
   "execution_count": 1,
   "metadata": {},
   "outputs": [],
   "source": [
    "import pandas as pd\n",
    "import seaborn as sns\n",
    "import matplotlib.pyplot as plt"
   ]
  },
  {
   "cell_type": "code",
   "execution_count": 2,
   "metadata": {},
   "outputs": [],
   "source": [
    "database = pd.read_csv('/Users/felipe.manso/Desktop/Arquivos_análises/dados_consumo_streaming.csv')\n"
   ]
  },
  {
   "cell_type": "code",
   "execution_count": 3,
   "metadata": {},
   "outputs": [
    {
     "data": {
      "text/html": [
       "<div>\n",
       "<style scoped>\n",
       "    .dataframe tbody tr th:only-of-type {\n",
       "        vertical-align: middle;\n",
       "    }\n",
       "\n",
       "    .dataframe tbody tr th {\n",
       "        vertical-align: top;\n",
       "    }\n",
       "\n",
       "    .dataframe thead th {\n",
       "        text-align: right;\n",
       "    }\n",
       "</style>\n",
       "<table border=\"1\" class=\"dataframe\">\n",
       "  <thead>\n",
       "    <tr style=\"text-align: right;\">\n",
       "      <th></th>\n",
       "      <th>id_usuario</th>\n",
       "      <th>data</th>\n",
       "      <th>tempo_assinatura</th>\n",
       "      <th>categoria_conteudo</th>\n",
       "      <th>tempo_visualizacao</th>\n",
       "      <th>avaliacao_conteudo</th>\n",
       "      <th>device</th>\n",
       "      <th>pausou_reproduzir</th>\n",
       "    </tr>\n",
       "  </thead>\n",
       "  <tbody>\n",
       "    <tr>\n",
       "      <th>0</th>\n",
       "      <td>1</td>\n",
       "      <td>2024-09-27 12:28:48.119520</td>\n",
       "      <td>10</td>\n",
       "      <td>Filmes</td>\n",
       "      <td>158</td>\n",
       "      <td>4</td>\n",
       "      <td>Smart TV</td>\n",
       "      <td>Não</td>\n",
       "    </tr>\n",
       "    <tr>\n",
       "      <th>1</th>\n",
       "      <td>2</td>\n",
       "      <td>2024-07-27 12:28:48.119520</td>\n",
       "      <td>12</td>\n",
       "      <td>Shows</td>\n",
       "      <td>71</td>\n",
       "      <td>4</td>\n",
       "      <td>Computador</td>\n",
       "      <td>Sim</td>\n",
       "    </tr>\n",
       "    <tr>\n",
       "      <th>2</th>\n",
       "      <td>3</td>\n",
       "      <td>2024-07-19 12:28:48.119520</td>\n",
       "      <td>10</td>\n",
       "      <td>Séries</td>\n",
       "      <td>132</td>\n",
       "      <td>2</td>\n",
       "      <td>Smartphone</td>\n",
       "      <td>Não</td>\n",
       "    </tr>\n",
       "    <tr>\n",
       "      <th>3</th>\n",
       "      <td>4</td>\n",
       "      <td>2024-08-16 12:28:48.119520</td>\n",
       "      <td>2</td>\n",
       "      <td>Séries</td>\n",
       "      <td>71</td>\n",
       "      <td>3</td>\n",
       "      <td>Smartphone</td>\n",
       "      <td>Não</td>\n",
       "    </tr>\n",
       "    <tr>\n",
       "      <th>4</th>\n",
       "      <td>5</td>\n",
       "      <td>2024-09-19 12:28:48.119520</td>\n",
       "      <td>19</td>\n",
       "      <td>Séries</td>\n",
       "      <td>109</td>\n",
       "      <td>2</td>\n",
       "      <td>Smart TV</td>\n",
       "      <td>Sim</td>\n",
       "    </tr>\n",
       "  </tbody>\n",
       "</table>\n",
       "</div>"
      ],
      "text/plain": [
       "   id_usuario                        data  tempo_assinatura  \\\n",
       "0           1  2024-09-27 12:28:48.119520                10   \n",
       "1           2  2024-07-27 12:28:48.119520                12   \n",
       "2           3  2024-07-19 12:28:48.119520                10   \n",
       "3           4  2024-08-16 12:28:48.119520                 2   \n",
       "4           5  2024-09-19 12:28:48.119520                19   \n",
       "\n",
       "  categoria_conteudo  tempo_visualizacao  avaliacao_conteudo      device  \\\n",
       "0             Filmes                 158                   4    Smart TV   \n",
       "1              Shows                  71                   4  Computador   \n",
       "2             Séries                 132                   2  Smartphone   \n",
       "3             Séries                  71                   3  Smartphone   \n",
       "4             Séries                 109                   2    Smart TV   \n",
       "\n",
       "  pausou_reproduzir  \n",
       "0               Não  \n",
       "1               Sim  \n",
       "2               Não  \n",
       "3               Não  \n",
       "4               Sim  "
      ]
     },
     "execution_count": 3,
     "metadata": {},
     "output_type": "execute_result"
    }
   ],
   "source": [
    "database.head()"
   ]
  },
  {
   "cell_type": "code",
   "execution_count": 13,
   "metadata": {},
   "outputs": [
    {
     "name": "stdout",
     "output_type": "stream",
     "text": [
      "       device  id_usuario\n",
      "0  Computador         160\n",
      "1    Smart TV         300\n",
      "2  Smartphone         493\n",
      "3      Tablet          47\n"
     ]
    }
   ],
   "source": [
    "# para criar os gráficos após o agrupamento, é necessário inserir a função reset_index no final da agregação.\n",
    "total_usuario_por_device = database.groupby('device')['id_usuario'].nunique().reset_index()\n",
    "print(total_usuario_por_device)"
   ]
  },
  {
   "cell_type": "code",
   "execution_count": 14,
   "metadata": {},
   "outputs": [
    {
     "data": {
      "image/png": "[encoded data removed]",
      "text/plain": [
       "<Figure size 800x500 with 1 Axes>"
      ]
     },
     "metadata": {},
     "output_type": "display_data"
    }
   ],
   "source": [
    "plt.figure(figsize=(8, 5))\n",
    "plt.bar(total_usuario_por_device['device'], total_usuario_por_device['id_usuario'], color='skyblue')\n",
    "plt.xlabel('Tipo de dispositivo')\n",
    "plt.ylabel('Total de usuários únicos')\n",
    "plt.title('Usuários únicos por tipo de dispositivo')\n",
    "plt.xticks(rotation=45)\n",
    "plt.tight_layout()\n",
    "plt.show()"
   ]
  }
 ],
 "metadata": {
  "kernelspec": {
   "display_name": ".venv",
   "language": "python",
   "name": "python3"
  },
  "language_info": {
   "codemirror_mode": {
    "name": "ipython",
    "version": 3
   },
   "file_extension": ".py",
   "mimetype": "text/x-python",
   "name": "python",
   "nbconvert_exporter": "python",
   "pygments_lexer": "ipython3",
   "version": "3.12.4"
  }
 },
 "nbformat": 4,
 "nbformat_minor": 2
}
